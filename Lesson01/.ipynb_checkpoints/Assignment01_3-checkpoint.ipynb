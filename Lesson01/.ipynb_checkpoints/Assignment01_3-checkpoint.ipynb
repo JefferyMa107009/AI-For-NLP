{
 "cells": [
  {
   "cell_type": "markdown",
   "metadata": {},
   "source": [
    "# Rule Based"
   ]
  },
  {
   "cell_type": "code",
   "execution_count": 1073,
   "metadata": {},
   "outputs": [],
   "source": [
    "def is_variable(pat):\n",
    "    return pat.startswith('?') and not(pat == '?') and all(s.isalpha() for s in pat[1:]) #'?'不算作占位符"
   ]
  },
  {
   "cell_type": "code",
   "execution_count": 1074,
   "metadata": {},
   "outputs": [
    {
     "data": {
      "text/plain": [
       "False"
      ]
     },
     "execution_count": 1074,
     "metadata": {},
     "output_type": "execute_result"
    }
   ],
   "source": [
    "is_variable('?')"
   ]
  },
  {
   "cell_type": "code",
   "execution_count": 1075,
   "metadata": {},
   "outputs": [],
   "source": [
    "def pat_match(pattern, saying):\n",
    "    if is_variable(pattern[0]): return True\n",
    "    else:\n",
    "        if pattern[0] != saying[0]: return False\n",
    "        else:\n",
    "            return pat_match(pattern[1:], saying[1:])"
   ]
  },
  {
   "cell_type": "code",
   "execution_count": 1076,
   "metadata": {
    "scrolled": true
   },
   "outputs": [
    {
     "data": {
      "text/plain": [
       "True"
      ]
     },
     "execution_count": 1076,
     "metadata": {},
     "output_type": "execute_result"
    }
   ],
   "source": [
    "pat_match('I like ?x'.split(), 'I like reading'.split())"
   ]
  },
  {
   "cell_type": "code",
   "execution_count": 1077,
   "metadata": {},
   "outputs": [],
   "source": [
    "def pat_match(pattern, saying):\n",
    "    if is_variable(pattern[0]):\n",
    "        return pattern[0], saying[0]\n",
    "    else:\n",
    "        if pattern[0] != saying[0]: return False\n",
    "        else:\n",
    "            return pat_match(pattern[1:], saying[1:])"
   ]
  },
  {
   "cell_type": "code",
   "execution_count": 1078,
   "metadata": {},
   "outputs": [],
   "source": [
    "pattern = 'I want ?X'.split()\n",
    "saying = \"I want holiday\".split()"
   ]
  },
  {
   "cell_type": "code",
   "execution_count": 1079,
   "metadata": {},
   "outputs": [
    {
     "data": {
      "text/plain": [
       "('?X', 'holiday')"
      ]
     },
     "execution_count": 1079,
     "metadata": {},
     "output_type": "execute_result"
    }
   ],
   "source": [
    "pat_match(pattern, saying)"
   ]
  },
  {
   "cell_type": "code",
   "execution_count": 1080,
   "metadata": {},
   "outputs": [
    {
     "data": {
      "text/plain": [
       "('?X', '2+2')"
      ]
     },
     "execution_count": 1080,
     "metadata": {},
     "output_type": "execute_result"
    }
   ],
   "source": [
    "pat_match(\"?X equals ?X\".split(), \"2+2 equals 2+2\".split())"
   ]
  },
  {
   "cell_type": "code",
   "execution_count": 1081,
   "metadata": {},
   "outputs": [],
   "source": [
    "def pat_match(pattern, saying):\n",
    "    result = [] \n",
    "    if not(len(pattern) == len(saying)):\n",
    "        return []\n",
    "    else:\n",
    "        for i in range(len(pattern)):\n",
    "            if (pattern[i] != saying[i]):\n",
    "                if not is_variable(pattern[i]):\n",
    "                    return []\n",
    "                else:\n",
    "                    result += [(pattern[i], saying[i])]\n",
    "        \n",
    "        return result\n",
    "    \"\"\"\n",
    "    if not pattern or not saying: return [] #模式不匹配\n",
    "    \n",
    "    if is_variable(pattern[0]):\n",
    "        return [(pattern[0], saying[0])] + pat_match(pattern[1:], saying[1:])\n",
    "    else:\n",
    "        if pattern[0] != saying[0]: return [] #模式不匹配\n",
    "        else:\n",
    "            return pat_match(pattern[1:], saying[1:])\n",
    "    \"\"\""
   ]
  },
  {
   "cell_type": "code",
   "execution_count": 1082,
   "metadata": {},
   "outputs": [],
   "source": [
    "def segment_match_cn(pattern,saying):\n",
    "    if len(pattern) == 1:\n",
    "        return ''.join(s for s in saying)\n",
    "    elif pattern[1] == saying[0]:\n",
    "        return ''\n",
    "    else:\n",
    "        if len(saying) > 1:\n",
    "            return saying[0] + segment_match_cn(pattern,saying[1:])\n",
    "        else:\n",
    "            return saying[0]\n",
    "    \n",
    "    \"\"\"\n",
    "    if len(pattern) > 1:\n",
    "        index = saying.index(pattern[1])\n",
    "        return ''.join(s for s in saying[:index])\n",
    "    else:\n",
    "        return ''.join(s for s in saying)\n",
    "    \"\"\""
   ]
  },
  {
   "cell_type": "code",
   "execution_count": 1084,
   "metadata": {},
   "outputs": [
    {
     "data": {
      "text/plain": [
       "'不想去中国旅游'"
      ]
     },
     "execution_count": 1084,
     "metadata": {},
     "output_type": "execute_result"
    }
   ],
   "source": [
    "segment_match_cn(['?*X'],['不想', '去', '中国', '旅游'])"
   ]
  },
  {
   "cell_type": "code",
   "execution_count": 1085,
   "metadata": {},
   "outputs": [
    {
     "data": {
      "text/plain": [
       "'不想去中国旅游'"
      ]
     },
     "execution_count": 1085,
     "metadata": {},
     "output_type": "execute_result"
    }
   ],
   "source": [
    "segment_match_cn(['?*X', '看到', '了', '?*P'],['不想', '去', '中国', '旅游'])"
   ]
  },
  {
   "cell_type": "code",
   "execution_count": 1086,
   "metadata": {},
   "outputs": [
    {
     "data": {
      "text/plain": [
       "[('?X', '3'), ('?Y', '2')]"
      ]
     },
     "execution_count": 1086,
     "metadata": {},
     "output_type": "execute_result"
    }
   ],
   "source": [
    "pat_match(\"?X greater than ?Y\".split(), \"3 greater than 2 \".split())"
   ]
  },
  {
   "cell_type": "code",
   "execution_count": 1087,
   "metadata": {},
   "outputs": [],
   "source": [
    "def pat_to_dict(patterns):\n",
    "    return {k: v for k, v in patterns}"
   ]
  },
  {
   "cell_type": "code",
   "execution_count": 1088,
   "metadata": {},
   "outputs": [
    {
     "data": {
      "text/plain": [
       "{'?X': '3', '?Y': '2'}"
      ]
     },
     "execution_count": 1088,
     "metadata": {},
     "output_type": "execute_result"
    }
   ],
   "source": [
    "pat_to_dict([('?X', '3'), ('?Y', '2')])"
   ]
  },
  {
   "cell_type": "code",
   "execution_count": 1089,
   "metadata": {},
   "outputs": [],
   "source": [
    "def substitute(rule, parsed_rules):\n",
    "    if not rule: return []\n",
    "    \n",
    "    return [parsed_rules.get(rule[0], rule[0])] + substitute(rule[1:], parsed_rules) #若某个单词不在parsed_rules中，返回该单词"
   ]
  },
  {
   "cell_type": "code",
   "execution_count": 1090,
   "metadata": {},
   "outputs": [],
   "source": [
    "defined_patterns = {\n",
    "    \"I need ?X\": [\"Image you will get ?X soon\", \"Why do you need ?X ?\"], \n",
    "    \"My ?X told me something\": [\"Talk about more about your ?X\", \"How do you think about your ?X ?\"],\n",
    "    \"I want ?*P china ?*X with my ?X\": [\"Why do you want ?*P china ?*X with your ?X ?\", \"How do you ?*P china ?*X with your ?X ?\"]\n",
    "}"
   ]
  },
  {
   "cell_type": "code",
   "execution_count": 1091,
   "metadata": {},
   "outputs": [],
   "source": [
    "import random"
   ]
  },
  {
   "cell_type": "code",
   "execution_count": 1092,
   "metadata": {},
   "outputs": [],
   "source": [
    "def get_response(saying, rules):\n",
    "    for k in rules:\n",
    "        \n",
    "        got_patterns = pat_match(k.split(), saying.split()) #通过saying获得模式匹配关系\n",
    "        answer = random.choice(rules.get(k))\n",
    "        \n",
    "        if not got_patterns: continue\n",
    "        else:\n",
    "            return ' '.join(substitute(answer.split(),pat_to_dict(got_patterns)))\n",
    "        #print ('\\n')\n",
    "        #print (k)\n",
    "        #print(answer)\n",
    "        #print(pat_match(k.split(), saying.split()))\n",
    "        #print( ' '.join(substitute(answer.split(),pat_to_dict(got_patterns))))"
   ]
  },
  {
   "cell_type": "code",
   "execution_count": 1093,
   "metadata": {
    "scrolled": true
   },
   "outputs": [
    {
     "data": {
      "text/plain": [
       "'Image you will get iPhone soon'"
      ]
     },
     "execution_count": 1093,
     "metadata": {},
     "output_type": "execute_result"
    }
   ],
   "source": [
    "get_response(\"I need  iPhone\",defined_patterns)"
   ]
  },
  {
   "cell_type": "code",
   "execution_count": 1094,
   "metadata": {
    "scrolled": true
   },
   "outputs": [
    {
     "data": {
      "text/plain": [
       "'Talk about more about your friend'"
      ]
     },
     "execution_count": 1094,
     "metadata": {},
     "output_type": "execute_result"
    }
   ],
   "source": [
    "get_response(\"My friend told me something\",defined_patterns)"
   ]
  },
  {
   "cell_type": "code",
   "execution_count": 1095,
   "metadata": {},
   "outputs": [],
   "source": [
    "def is_pattern_segment(pattern):\n",
    "    return pattern.startswith('?*') and len(pattern) > 2 and all(a.isalpha() for a in pattern[2:]) #'?*'不算作占位符"
   ]
  },
  {
   "cell_type": "code",
   "execution_count": 1096,
   "metadata": {
    "scrolled": true
   },
   "outputs": [
    {
     "data": {
      "text/plain": [
       "True"
      ]
     },
     "execution_count": 1096,
     "metadata": {},
     "output_type": "execute_result"
    }
   ],
   "source": [
    "is_pattern_segment('?*P')"
   ]
  },
  {
   "cell_type": "code",
   "execution_count": 1097,
   "metadata": {},
   "outputs": [],
   "source": [
    "#from collections import defaultdict"
   ]
  },
  {
   "cell_type": "code",
   "execution_count": 1098,
   "metadata": {},
   "outputs": [],
   "source": [
    "def segment_match(pattern,saying):\n",
    "    if len(pattern) > 1:\n",
    "        index = saying.index(pattern[1])\n",
    "        return ' '.join(s for s in saying[:index])\n",
    "    else:\n",
    "        return ' '.join(s for s in saying)"
   ]
  },
  {
   "cell_type": "code",
   "execution_count": 1099,
   "metadata": {
    "scrolled": false
   },
   "outputs": [
    {
     "data": {
      "text/plain": [
       "'travel to china next year with my friend'"
      ]
     },
     "execution_count": 1099,
     "metadata": {},
     "output_type": "execute_result"
    }
   ],
   "source": [
    "segment_match(\"?*P\".split(), \"travel to china next year with my friend\".split())"
   ]
  },
  {
   "cell_type": "code",
   "execution_count": 1100,
   "metadata": {},
   "outputs": [
    {
     "data": {
      "text/plain": [
       "'travel to'"
      ]
     },
     "execution_count": 1100,
     "metadata": {},
     "output_type": "execute_result"
    }
   ],
   "source": [
    "segment_match(\"?*P china ?*X with my ?X\".split(), \"travel to china next year with my friend\".split())"
   ]
  },
  {
   "cell_type": "code",
   "execution_count": 1101,
   "metadata": {},
   "outputs": [],
   "source": [
    "#fail = [True, None]\n",
    "\"\"\"\n",
    "input:parttern.split(), saying.split()\n",
    "I want ?*P china ?*X with my ?X\n",
    "I want travel to china next year with my friend\n",
    "\n",
    "output\n",
    "[('?*P', ' travel to'), ('?*X', 'next year'), ('?X', 'friend')]\n",
    "\"\"\"\n",
    "def pat_match_with_seg(pattern, saying):\n",
    "    result = []\n",
    "    j = 0\n",
    "    for i in range(len(pattern)):\n",
    "        if j > len(saying) - 1: #pattern还有未匹配字符串，但是saying已无可匹配字符串\n",
    "            return []\n",
    "        elif is_variable(pattern[i]):\n",
    "            result += [(pattern[i], saying[j])]\n",
    "            j += 1\n",
    "        elif is_pattern_segment(pattern[i]):\n",
    "            #print('pattern:',pattern[i:])\n",
    "            #print('saying:',saying[j:])\n",
    "            seg = segment_match(pattern[i:], saying[j:])\n",
    "            #print ('seg:', seg)\n",
    "            j = j + len(seg.split())\n",
    "            result += [(pattern[i], seg)]\n",
    "        elif pattern[i] == saying[j]:\n",
    "            j += 1\n",
    "            continue\n",
    "        else:\n",
    "            return []\n",
    "    return result\n",
    "    \"\"\"\n",
    "    if not pattern or not saying: return []\n",
    "    \n",
    "    pat = pattern[0]\n",
    "    \n",
    "    if is_variable(pat):\n",
    "        return [(pat, saying[0])] + pat_match_with_seg(pattern[1:], saying[1:])\n",
    "    elif is_pattern_segment(pat):\n",
    "        match, index = segment_match(pattern, saying)\n",
    "        return [match] + pat_match_with_seg(pattern[1:], saying[index:])\n",
    "    elif pat == saying[0]:\n",
    "        return pat_match_with_seg(pattern[1:], saying[1:])\n",
    "    else:\n",
    "        return fail\n",
    "    \"\"\"\n"
   ]
  },
  {
   "cell_type": "code",
   "execution_count": 1102,
   "metadata": {},
   "outputs": [
    {
     "data": {
      "text/plain": [
       "[('?*P', 'go to'), ('?*X', 'next year'), ('?X', 'friend')]"
      ]
     },
     "execution_count": 1102,
     "metadata": {},
     "output_type": "execute_result"
    }
   ],
   "source": [
    "pat_match_with_seg(\"I want ?*P china ?*X with my ?X\".split(), \"I want go to china next year with my friend\".split())"
   ]
  },
  {
   "cell_type": "code",
   "execution_count": 1103,
   "metadata": {},
   "outputs": [],
   "source": [
    "def pat_match_with_seg_cn(pattern, saying):\n",
    "    result = []\n",
    "    j = 0\n",
    "    for i in range(len(pattern)):\n",
    "        if j > len(saying) - 1: #pattern还有未匹配字符串，但是saying已无可匹配字符串\n",
    "            return []\n",
    "        elif is_variable(pattern[i]):\n",
    "            result += [(pattern[i], saying[j])]\n",
    "            j += 1\n",
    "        elif is_pattern_segment(pattern[i]):\n",
    "            #print('pattern:',pattern[i:])\n",
    "            #print('saying:',saying[j:])\n",
    "            seg = segment_match_cn(pattern[i:], saying[j:])\n",
    "            #print ('seg:', seg)\n",
    "            j = j + len(jieba.lcut(seg, cut_all=False))\n",
    "            result += [(pattern[i], seg)]\n",
    "        elif pattern[i] == saying[j]:\n",
    "            j += 1\n",
    "            continue\n",
    "        else:\n",
    "            return []\n",
    "    return result"
   ]
  },
  {
   "cell_type": "code",
   "execution_count": 1104,
   "metadata": {
    "scrolled": true
   },
   "outputs": [
    {
     "data": {
      "text/plain": [
       "[('?*X', '我和朋友')]"
      ]
     },
     "execution_count": 1104,
     "metadata": {},
     "output_type": "execute_result"
    }
   ],
   "source": [
    "pat_match_with_seg_cn(['?*X', '看到'],['我', '和', '朋友', '看到'])"
   ]
  },
  {
   "cell_type": "code",
   "execution_count": 1105,
   "metadata": {},
   "outputs": [],
   "source": [
    "k_splited: ['?X', '?*X', '看到', '了', '?*P']\n",
    "saying_splited: ['我', '不想', '去', '中国', '旅游']"
   ]
  },
  {
   "cell_type": "code",
   "execution_count": 1106,
   "metadata": {},
   "outputs": [
    {
     "data": {
      "text/plain": [
       "[]"
      ]
     },
     "execution_count": 1106,
     "metadata": {},
     "output_type": "execute_result"
    }
   ],
   "source": [
    "pat_match_with_seg_cn(['?X', '?*X', '看到', '了', '?*P'],['我', '不想', '去', '中国', '旅游'])"
   ]
  },
  {
   "cell_type": "code",
   "execution_count": 1107,
   "metadata": {},
   "outputs": [],
   "source": [
    "def get_response(saying, rules):\n",
    "    for k in rules:\n",
    "        \n",
    "        got_patterns = pat_match_with_seg(k.split(), saying.split()) #通过saying获得模式匹配关系\n",
    "        #print(got_patterns)\n",
    "        answer = random.choice(rules.get(k))\n",
    "        \n",
    "        if not got_patterns: continue\n",
    "        else:\n",
    "            return ' '.join(substitute(answer.split(),pat_to_dict(got_patterns)))"
   ]
  },
  {
   "cell_type": "code",
   "execution_count": 1108,
   "metadata": {
    "scrolled": false
   },
   "outputs": [
    {
     "data": {
      "text/plain": [
       "'Why do you want travel to china next year with your friend ?'"
      ]
     },
     "execution_count": 1108,
     "metadata": {},
     "output_type": "execute_result"
    }
   ],
   "source": [
    "get_response(\"I want travel to china next year with my friend\",defined_patterns)"
   ]
  },
  {
   "cell_type": "markdown",
   "metadata": {},
   "source": [
    "# 中文模式"
   ]
  },
  {
   "cell_type": "code",
   "execution_count": 1109,
   "metadata": {},
   "outputs": [],
   "source": [
    "import jieba"
   ]
  },
  {
   "cell_type": "code",
   "execution_count": 1110,
   "metadata": {},
   "outputs": [],
   "source": [
    "#input:使用jieba分词后的中间结果：['我', '想', '去', '?','*','P']\n",
    "#output:['我', '想', '去', '?*P']\n",
    "def split_cn(saying):\n",
    "    result = []\n",
    "    index = 0\n",
    "    while(index < len(saying)):           \n",
    "        if index < len(saying) -1 and saying[index] == '?' :\n",
    "            if saying[index + 1] == '*':\n",
    "                word = ''.join(saying[index:index+3])\n",
    "                #print('word 3', word)\n",
    "                index += 3\n",
    "            elif saying[index + 1].isalpha():\n",
    "                word = ''.join(saying[index:index+2])\n",
    "                #print('word 2', word)\n",
    "                index += 2\n",
    "            else:\n",
    "                word = saying[index]\n",
    "                index += 1\n",
    "        else:\n",
    "            word = saying[index]\n",
    "            index += 1\n",
    "        \n",
    "        result.append(word)\n",
    "    return result\n",
    "    "
   ]
  },
  {
   "cell_type": "code",
   "execution_count": 1111,
   "metadata": {
    "scrolled": true
   },
   "outputs": [
    {
     "data": {
      "text/plain": [
       "['我', '?*P']"
      ]
     },
     "execution_count": 1111,
     "metadata": {},
     "output_type": "execute_result"
    }
   ],
   "source": [
    "split_cn(['我','?', '*', 'P'])"
   ]
  },
  {
   "cell_type": "code",
   "execution_count": 1125,
   "metadata": {},
   "outputs": [],
   "source": [
    "defined_patterns_cn = {\n",
    "    \"我想去?*P\":[\"为什么你想去?*P?\",\"?*P有什么好的?\"],\n",
    "    \"?X?*X看到了?*P\":[\"?X谁看到了?*P?\",\"什么?昨天你们不是去摸鱼了吗?\"]\n",
    "}"
   ]
  },
  {
   "cell_type": "code",
   "execution_count": 1126,
   "metadata": {},
   "outputs": [],
   "source": [
    "def get_response_cn(saying, rules):\n",
    "    for k in rules:\n",
    "        k_splited = split_cn(jieba.lcut(k, cut_all=False))\n",
    "        #print('k_splited:', k_splited)\n",
    "        \n",
    "        saying_splited = split_cn(jieba.lcut(saying, cut_all=False))\n",
    "        #print('saying_splited:', saying_splited)\n",
    "\n",
    "        got_patterns = pat_match_with_seg_cn(k_splited, saying_splited) #通过saying获得模式匹配关系\n",
    "        #print('got_patterns:', got_patterns)\n",
    "        \n",
    "        if not got_patterns: continue\n",
    "        else:\n",
    "            answer = random.choice(rules.get(k))\n",
    "            answer_splited = split_cn(answer)\n",
    "            #print('answer_splited:',answer_splited)\n",
    "            return ''.join(substitute(answer_splited,pat_to_dict(got_patterns)))"
   ]
  },
  {
   "cell_type": "code",
   "execution_count": 1132,
   "metadata": {
    "scrolled": false
   },
   "outputs": [
    {
     "data": {
      "text/plain": [
       "'昨天谁看到了外星人?'"
      ]
     },
     "execution_count": 1132,
     "metadata": {},
     "output_type": "execute_result"
    }
   ],
   "source": [
    "get_response_cn('昨天我和朋友看到了外星人',defined_patterns_cn)"
   ]
  },
  {
   "cell_type": "code",
   "execution_count": 1128,
   "metadata": {
    "scrolled": true
   },
   "outputs": [
    {
     "data": {
      "text/plain": [
       "'中国旅游有什么好的?'"
      ]
     },
     "execution_count": 1128,
     "metadata": {},
     "output_type": "execute_result"
    }
   ],
   "source": [
    "get_response_cn('我想去中国旅游',defined_patterns_cn)"
   ]
  },
  {
   "cell_type": "code",
   "execution_count": 1129,
   "metadata": {},
   "outputs": [],
   "source": [
    "get_response_cn('我不想去中国旅游',defined_patterns_cn)"
   ]
  },
  {
   "cell_type": "markdown",
   "metadata": {},
   "source": [
    "# 问题4\n",
    "1.这样的程序有什么优点？有什么缺点？你有什么可以改进的方法吗？\n",
    "  优点：1.基于匹配规则，明确简单\n",
    "  缺点：1.回答只能基于已有模板，比较呆板\n",
    "           2.模板库必须足够大才具有实用价值\n",
    "  改进：1.不断分析人类已有对话数据，更新和扩大模板库，提供更多匹配模式和更人性化的回答（优化决策模型）\n",
    "  \n",
    "2.什么是数据驱动？数据驱动在这个程序里如何体现？\n",
    "   数据驱动是通过相关手段采集海量的数据，将数据进行组织形成信息，之后对相关的信息进行整合和提炼，在数据的基础上经过训练和拟合形成自动化的决策模型。当新的情况发生，新数据输入的时候，系统可以用前面建立的模型以人工智能的方式直接进行决策。\n",
    "   在这个程序中，对话模板就是决策模型，系统使用已定义好的模板，根据输入自动进行决策，返回输出。\n",
    "   \n",
    "3数据驱动与 AI 的关系是什么？\n",
    "   AI的目的就是要提出合理模型，通过模型的决策将输入转化成输出。而数据驱动正是构建和优化决策模型的一种方式。"
   ]
  }
 ],
 "metadata": {
  "kernelspec": {
   "display_name": "Python 3",
   "language": "python",
   "name": "python3"
  },
  "language_info": {
   "codemirror_mode": {
    "name": "ipython",
    "version": 3
   },
   "file_extension": ".py",
   "mimetype": "text/x-python",
   "name": "python",
   "nbconvert_exporter": "python",
   "pygments_lexer": "ipython3",
   "version": "3.7.1"
  }
 },
 "nbformat": 4,
 "nbformat_minor": 2
}
